{
  "nbformat": 4,
  "nbformat_minor": 0,
  "metadata": {
    "colab": {
      "name": "Deep Learning on MNIST.ipynb",
      "provenance": [],
      "mount_file_id": "177GGADPC4y5I8EJRyQpmSjOwrqYlZvFP",
      "authorship_tag": "ABX9TyNb2yxQm+q/vecxYQtVIINb",
      "include_colab_link": true
    },
    "kernelspec": {
      "display_name": "Python 3",
      "name": "python3"
    },
    "language_info": {
      "name": "python"
    }
  },
  "cells": [
    {
      "cell_type": "markdown",
      "metadata": {
        "id": "view-in-github",
        "colab_type": "text"
      },
      "source": [
        "<a href=\"https://colab.research.google.com/github/madhukar123456/Machine-Learning-on-MNIST/blob/main/Deep_Learning_on_MNIST.ipynb\" target=\"_parent\"><img src=\"https://colab.research.google.com/assets/colab-badge.svg\" alt=\"Open In Colab\"/></a>"
      ]
    },
    {
      "cell_type": "markdown",
      "metadata": {
        "id": "Tb2sQgvMdLpI"
      },
      "source": [
        "# Question no 8. Deep Learning"
      ]
    },
    {
      "cell_type": "code",
      "metadata": {
        "id": "alZPFwe2dCwp"
      },
      "source": [
        "# Loading MNIST digits dataset\n",
        "import tensorflow as tf\n",
        "from tensorflow import keras\n",
        "\n",
        "(x_train, y_train), (x_test, y_test) = tf.keras.datasets.mnist.load_data(path=\"mnist.npz\")"
      ],
      "execution_count": null,
      "outputs": []
    },
    {
      "cell_type": "code",
      "metadata": {
        "id": "eeV5g0VifFt6"
      },
      "source": [
        "# Splitting digits from 0 to 4 as per question\n",
        "\n",
        "x_train = x_train[y_train<5]\n",
        "y_train = y_train[y_train<5]\n",
        "x_test = x_test[y_test<5]\n",
        "y_test = y_test[y_test<5]"
      ],
      "execution_count": null,
      "outputs": []
    },
    {
      "cell_type": "code",
      "metadata": {
        "colab": {
          "base_uri": "https://localhost:8080/"
        },
        "id": "_l6fYEmZfIr0",
        "outputId": "b941df22-498b-4dd5-d998-32e12909d62d"
      },
      "source": [
        "x_train.shape"
      ],
      "execution_count": null,
      "outputs": [
        {
          "output_type": "execute_result",
          "data": {
            "text/plain": [
              "(30596, 28, 28)"
            ]
          },
          "metadata": {
            "tags": []
          },
          "execution_count": 78
        }
      ]
    },
    {
      "cell_type": "code",
      "metadata": {
        "id": "EcHFHVtXiBso"
      },
      "source": [
        "# Splitting dataset for validation set\n",
        "\n",
        "X_valid, X_train = x_train[:5000]/255.0 , x_train[5000:]/255.0\n",
        "y_valid, y_train = y_train[:5000], y_train[5000:]"
      ],
      "execution_count": null,
      "outputs": []
    },
    {
      "cell_type": "code",
      "metadata": {
        "colab": {
          "base_uri": "https://localhost:8080/"
        },
        "id": "bg4s-ZKkWRk9",
        "outputId": "bc7b7d15-7dd2-40c1-ebd1-d3fa018b871f"
      },
      "source": [
        "X_train.dtype"
      ],
      "execution_count": null,
      "outputs": [
        {
          "output_type": "execute_result",
          "data": {
            "text/plain": [
              "dtype('float64')"
            ]
          },
          "metadata": {
            "tags": []
          },
          "execution_count": 80
        }
      ]
    },
    {
      "cell_type": "code",
      "metadata": {
        "colab": {
          "base_uri": "https://localhost:8080/"
        },
        "id": "TKE13UuzdVak",
        "outputId": "da4d54cd-0967-4b93-a363-99a931d0c75a"
      },
      "source": [
        "X_train.shape"
      ],
      "execution_count": null,
      "outputs": [
        {
          "output_type": "execute_result",
          "data": {
            "text/plain": [
              "(25596, 28, 28)"
            ]
          },
          "metadata": {
            "tags": []
          },
          "execution_count": 81
        }
      ]
    },
    {
      "cell_type": "code",
      "metadata": {
        "colab": {
          "base_uri": "https://localhost:8080/"
        },
        "id": "mBtSInVOdWiV",
        "outputId": "dcf9d0c1-ef17-4368-b88f-c95fe620956d"
      },
      "source": [
        "from collections import Counter # Counting number of targets\n",
        "\n",
        "print(Counter(y_train).keys()) \n",
        "Counter(y_train).values()"
      ],
      "execution_count": null,
      "outputs": [
        {
          "output_type": "stream",
          "text": [
            "dict_keys([0, 1, 2, 3, 4])\n"
          ],
          "name": "stdout"
        },
        {
          "output_type": "execute_result",
          "data": {
            "text/plain": [
              "dict_values([4954, 5641, 4997, 5124, 4880])"
            ]
          },
          "metadata": {
            "tags": []
          },
          "execution_count": 82
        }
      ]
    },
    {
      "cell_type": "code",
      "metadata": {
        "colab": {
          "base_uri": "https://localhost:8080/"
        },
        "id": "ApBmvXLdda1k",
        "outputId": "6a4cb73f-e809-4e20-cc83-3337152b4d65"
      },
      "source": [
        "# Creating a model; elu activation with he initializer and dropout.\n",
        "model = keras.models.Sequential([\n",
        "                                 keras.layers.Flatten(input_shape=[28,28]),\n",
        "                                 keras.layers.Dropout(rate=0.2),\n",
        "                                 keras.layers.Dense(100, activation=\"elu\", kernel_initializer=\"he_normal\"),\n",
        "                                 keras.layers.Dropout(rate=0.2),\n",
        "                                 keras.layers.Dense(100, activation=\"elu\", kernel_initializer=\"he_normal\"),\n",
        "                                 keras.layers.Dropout(rate=0.2),\n",
        "                                 keras.layers.Dense(100, activation=\"elu\", kernel_initializer=\"he_normal\"),\n",
        "                                 keras.layers.Dropout(rate=0.2),\n",
        "                                 keras.layers.Dense(100, activation=\"elu\", kernel_initializer=\"he_normal\"),\n",
        "                                 keras.layers.Dropout(rate=0.2),\n",
        "                                 keras.layers.Dense(100, activation=\"elu\", kernel_initializer=\"he_normal\"),\n",
        "                                 keras.layers.Dropout(rate=0.2),\n",
        "                                 keras.layers.Dense(5, activation=\"softmax\")\n",
        "                      ])\n",
        "optimizer = keras.optimizers.Adam(learning_rate=0.001)    \n",
        "model.summary()                                                                                                                                                                                                                               "
      ],
      "execution_count": null,
      "outputs": [
        {
          "output_type": "stream",
          "text": [
            "Model: \"sequential_7\"\n",
            "_________________________________________________________________\n",
            "Layer (type)                 Output Shape              Param #   \n",
            "=================================================================\n",
            "flatten_7 (Flatten)          (None, 784)               0         \n",
            "_________________________________________________________________\n",
            "dropout_12 (Dropout)         (None, 784)               0         \n",
            "_________________________________________________________________\n",
            "dense_42 (Dense)             (None, 100)               78500     \n",
            "_________________________________________________________________\n",
            "dropout_13 (Dropout)         (None, 100)               0         \n",
            "_________________________________________________________________\n",
            "dense_43 (Dense)             (None, 100)               10100     \n",
            "_________________________________________________________________\n",
            "dropout_14 (Dropout)         (None, 100)               0         \n",
            "_________________________________________________________________\n",
            "dense_44 (Dense)             (None, 100)               10100     \n",
            "_________________________________________________________________\n",
            "dropout_15 (Dropout)         (None, 100)               0         \n",
            "_________________________________________________________________\n",
            "dense_45 (Dense)             (None, 100)               10100     \n",
            "_________________________________________________________________\n",
            "dropout_16 (Dropout)         (None, 100)               0         \n",
            "_________________________________________________________________\n",
            "dense_46 (Dense)             (None, 100)               10100     \n",
            "_________________________________________________________________\n",
            "dropout_17 (Dropout)         (None, 100)               0         \n",
            "_________________________________________________________________\n",
            "dense_47 (Dense)             (None, 5)                 505       \n",
            "=================================================================\n",
            "Total params: 119,405\n",
            "Trainable params: 119,405\n",
            "Non-trainable params: 0\n",
            "_________________________________________________________________\n"
          ],
          "name": "stdout"
        }
      ]
    },
    {
      "cell_type": "code",
      "metadata": {
        "id": "qfr4G1skiHOU"
      },
      "source": [
        "# Compiling model\n",
        "model.compile(loss=\"sparse_categorical_crossentropy\",\n",
        "              optimizer=\"sgd\",\n",
        "              metrics=[\"accuracy\"])"
      ],
      "execution_count": null,
      "outputs": []
    },
    {
      "cell_type": "code",
      "metadata": {
        "colab": {
          "base_uri": "https://localhost:8080/"
        },
        "id": "O4Zr8DCPd8rd",
        "outputId": "fa4f3042-c14a-4a3d-987a-b3dc2d52b89d"
      },
      "source": [
        "# Creating checkpoints and early stopping callbacks\n",
        "\n",
        "checkpoint_cb = keras.callbacks.ModelCheckpoint(\"/content/drive/MyDrive/Practice/ch11model/my_keras_model.h5\", save_best_only=True)\n",
        "early_stopping_cb = keras.callbacks.EarlyStopping(patience=10, restore_best_weights=True)\n",
        "\n",
        "history = model.fit(X_train, y_train, epochs=25, \n",
        "                    validation_data=(X_valid, y_valid),\n",
        "                    callbacks=[checkpoint_cb, early_stopping_cb])"
      ],
      "execution_count": null,
      "outputs": [
        {
          "output_type": "stream",
          "text": [
            "Epoch 1/25\n",
            "800/800 [==============================] - 3s 3ms/step - loss: 0.6402 - accuracy: 0.7782 - val_loss: 0.1388 - val_accuracy: 0.9592\n",
            "Epoch 2/25\n",
            "800/800 [==============================] - 2s 3ms/step - loss: 0.2114 - accuracy: 0.9347 - val_loss: 0.1170 - val_accuracy: 0.9652\n",
            "Epoch 3/25\n",
            "800/800 [==============================] - 2s 3ms/step - loss: 0.1811 - accuracy: 0.9459 - val_loss: 0.1056 - val_accuracy: 0.9684\n",
            "Epoch 4/25\n",
            "800/800 [==============================] - 2s 3ms/step - loss: 0.1670 - accuracy: 0.9490 - val_loss: 0.1062 - val_accuracy: 0.9704\n",
            "Epoch 5/25\n",
            "800/800 [==============================] - 2s 3ms/step - loss: 0.1571 - accuracy: 0.9537 - val_loss: 0.0988 - val_accuracy: 0.9706\n",
            "Epoch 6/25\n",
            "800/800 [==============================] - 2s 3ms/step - loss: 0.1369 - accuracy: 0.9591 - val_loss: 0.0893 - val_accuracy: 0.9728\n",
            "Epoch 7/25\n",
            "800/800 [==============================] - 2s 3ms/step - loss: 0.1378 - accuracy: 0.9585 - val_loss: 0.0901 - val_accuracy: 0.9726\n",
            "Epoch 8/25\n",
            "800/800 [==============================] - 2s 3ms/step - loss: 0.1271 - accuracy: 0.9620 - val_loss: 0.0851 - val_accuracy: 0.9750\n",
            "Epoch 9/25\n",
            "800/800 [==============================] - 2s 3ms/step - loss: 0.1232 - accuracy: 0.9625 - val_loss: 0.0850 - val_accuracy: 0.9750\n",
            "Epoch 10/25\n",
            "800/800 [==============================] - 2s 3ms/step - loss: 0.1174 - accuracy: 0.9636 - val_loss: 0.0792 - val_accuracy: 0.9754\n",
            "Epoch 11/25\n",
            "800/800 [==============================] - 2s 3ms/step - loss: 0.1076 - accuracy: 0.9678 - val_loss: 0.0740 - val_accuracy: 0.9772\n",
            "Epoch 12/25\n",
            "800/800 [==============================] - 2s 3ms/step - loss: 0.1091 - accuracy: 0.9663 - val_loss: 0.0745 - val_accuracy: 0.9772\n",
            "Epoch 13/25\n",
            "800/800 [==============================] - 2s 3ms/step - loss: 0.1072 - accuracy: 0.9658 - val_loss: 0.0735 - val_accuracy: 0.9788\n",
            "Epoch 14/25\n",
            "800/800 [==============================] - 2s 3ms/step - loss: 0.1040 - accuracy: 0.9690 - val_loss: 0.0726 - val_accuracy: 0.9772\n",
            "Epoch 15/25\n",
            "800/800 [==============================] - 2s 3ms/step - loss: 0.0983 - accuracy: 0.9693 - val_loss: 0.0642 - val_accuracy: 0.9794\n",
            "Epoch 16/25\n",
            "800/800 [==============================] - 2s 3ms/step - loss: 0.0922 - accuracy: 0.9710 - val_loss: 0.0658 - val_accuracy: 0.9796\n",
            "Epoch 17/25\n",
            "800/800 [==============================] - 2s 3ms/step - loss: 0.0937 - accuracy: 0.9707 - val_loss: 0.0647 - val_accuracy: 0.9800\n",
            "Epoch 18/25\n",
            "800/800 [==============================] - 2s 3ms/step - loss: 0.0955 - accuracy: 0.9710 - val_loss: 0.0619 - val_accuracy: 0.9806\n",
            "Epoch 19/25\n",
            "800/800 [==============================] - 2s 3ms/step - loss: 0.0914 - accuracy: 0.9714 - val_loss: 0.0589 - val_accuracy: 0.9806\n",
            "Epoch 20/25\n",
            "800/800 [==============================] - 2s 3ms/step - loss: 0.0917 - accuracy: 0.9724 - val_loss: 0.0575 - val_accuracy: 0.9822\n",
            "Epoch 21/25\n",
            "800/800 [==============================] - 2s 3ms/step - loss: 0.0849 - accuracy: 0.9742 - val_loss: 0.0613 - val_accuracy: 0.9812\n",
            "Epoch 22/25\n",
            "800/800 [==============================] - 2s 3ms/step - loss: 0.0828 - accuracy: 0.9748 - val_loss: 0.0626 - val_accuracy: 0.9822\n",
            "Epoch 23/25\n",
            "800/800 [==============================] - 2s 3ms/step - loss: 0.0850 - accuracy: 0.9727 - val_loss: 0.0574 - val_accuracy: 0.9828\n",
            "Epoch 24/25\n",
            "800/800 [==============================] - 2s 3ms/step - loss: 0.0834 - accuracy: 0.9731 - val_loss: 0.0556 - val_accuracy: 0.9836\n",
            "Epoch 25/25\n",
            "800/800 [==============================] - 2s 3ms/step - loss: 0.0765 - accuracy: 0.9758 - val_loss: 0.0577 - val_accuracy: 0.9822\n"
          ],
          "name": "stdout"
        }
      ]
    },
    {
      "cell_type": "code",
      "metadata": {
        "colab": {
          "base_uri": "https://localhost:8080/",
          "height": 573
        },
        "id": "r1x6XaeI61fc",
        "outputId": "7c1ff9c5-baf3-43a4-b130-4ab55bc4f556"
      },
      "source": [
        "# summarize history for accuracy\n",
        "plt.plot(history.history['accuracy'])\n",
        "plt.plot(history.history['val_accuracy'])\n",
        "plt.title('model accuracy')\n",
        "plt.ylabel('accuracy')\n",
        "plt.xlabel('epoch')\n",
        "plt.legend(['train', 'test'], loc='upper left')\n",
        "plt.show()\n",
        "# summarize history for loss\n",
        "plt.plot(history.history['loss'])\n",
        "plt.plot(history.history['val_loss'])\n",
        "plt.title('model loss')\n",
        "plt.ylabel('loss')\n",
        "plt.xlabel('epoch')\n",
        "plt.legend(['train', 'test'], loc='upper left')\n",
        "plt.show()"
      ],
      "execution_count": null,
      "outputs": [
        {
          "output_type": "display_data",
          "data": {
            "image/png": "[encoded data removed]",
            "text/plain": [
              "<Figure size 432x288 with 1 Axes>"
            ]
          },
          "metadata": {
            "tags": [],
            "needs_background": "light"
          }
        },
        {
          "output_type": "display_data",
          "data": {
            "image/png": "[encoded data removed]",
            "text/plain": [
              "<Figure size 432x288 with 1 Axes>"
            ]
          },
          "metadata": {
            "tags": [],
            "needs_background": "light"
          }
        }
      ]
    },
    {
      "cell_type": "code",
      "metadata": {
        "colab": {
          "base_uri": "https://localhost:8080/"
        },
        "id": "lzbrm7Suh7Er",
        "outputId": "d6829d27-2034-4b64-ffce-33f92c8853bd"
      },
      "source": [
        "# Evaluate the model on the test data using `evaluate`\n",
        "print(\"Evaluate on test data\")\n",
        "results = model.evaluate(x_test, y_test, batch_size=32)\n",
        "print(\"test loss, test acc:\", results)\n"
      ],
      "execution_count": null,
      "outputs": [
        {
          "output_type": "stream",
          "text": [
            "Evaluate on test data\n",
            "161/161 [==============================] - 0s 2ms/step - loss: 1.9487 - accuracy: 0.9716\n",
            "test loss, test acc: [1.9486855268478394, 0.9715898036956787]\n"
          ],
          "name": "stdout"
        }
      ]
    }
  ]
}